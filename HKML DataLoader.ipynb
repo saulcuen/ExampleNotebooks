{
 "cells": [
  {
   "cell_type": "markdown",
   "metadata": {},
   "source": [
    "# Data loading for training \n",
    "\n",
    "Fast streaming of data is extremely important for training ML algorithms. As such, ML libraries including `pytorch` provide useful APIs to load data during training. In this notebook, we go over an example of how to implement `pytorch` APIs for streaming the workshop data. \n",
    "\n",
    "We assume you know how to open the workshop `.npz` data files. If you do not know what that is, or have not yet tried [HKML Data Access & Visualization](https://github.com/WatChMaL/ExampleNotebooks/blob/master/HKML%20Data%20Access%20%26%20Visualization.ipynb) notebook, you should start from there.\n",
    "\n"
   ]
  },
  {
   "cell_type": "code",
   "execution_count": 1,
   "metadata": {},
   "outputs": [],
   "source": [
    "from __future__ import print_function\n",
    "import numpy as np\n",
    "import os, time\n",
    "import matplotlib.pyplot as plt\n",
    "%matplotlib inline"
   ]
  },
  {
   "cell_type": "markdown",
   "metadata": {},
   "source": [
    "There are 2 base `pytorch` modules to be implemented:\n",
    "* `Dataset` ... represents a blob data instance, defines how data should be read from file, etc.\n",
    "* `DataLoader` ... for streaming data segments from `Dataset`"
   ]
  },
  {
   "cell_type": "code",
   "execution_count": 2,
   "metadata": {},
   "outputs": [],
   "source": [
    "from torch.utils.data import Dataset, DataLoader"
   ]
  },
  {
   "cell_type": "markdown",
   "metadata": {},
   "source": [
    "## Dataset\n",
    "`Dataset` module needs implementation of two attributes: `__len__` (length of our dataset) and `__getitem__` (called to fetch an item in the ordered dataset). Below, we define `NPZDataset` which reads data from files whenever requested."
   ]
  },
  {
   "cell_type": "code",
   "execution_count": 3,
   "metadata": {},
   "outputs": [],
   "source": [
    "class NPZDataset(Dataset):\n",
    "\n",
    "    def __init__(self, data_dirs, transform=None, flavour=None, limit_num_files=0):\n",
    "        \"\"\"                                                                                                                                             \n",
    "        Args: data_dirs ... a list of data directories to find files (up to 10 files read from each dir)                                                \n",
    "              transform ... a function applied to pre-process data                                                                                      \n",
    "              flavour ..... a string that is required to be present in the filename                                                                     \n",
    "              limit_num_files ... an integer limiting number of files to be taken per data directory                                                    \n",
    "        \"\"\"\n",
    "        self._transform = transform\n",
    "        self._files = []\n",
    "\n",
    "        # Load files (up to 10) from each directory in data_dirs list                                                                                   \n",
    "        for d in data_dirs:\n",
    "            file_list = [ os.path.join(d,f) for f in os.listdir(d) if (flavour is None or flavour in f) and f.endswith('.npz') ]\n",
    "            if limit_num_files: file_list = file_list[0:limit_num_files]\n",
    "            self._files += file_list\n",
    "\n",
    "        # Need to know the total number of events. Compute.                                                                                             \n",
    "        num_events_v = [np.load(f)['labels'].shape[0] for f in self._files]\n",
    "        length = np.sum(num_events_v)\n",
    "\n",
    "        # When an event is requested, need to know which file it comes from. Create a file/event index.                                                 \n",
    "        self._file_index  = np.zeros([length],dtype=np.int32)\n",
    "        self._event_index = np.zeros([length],dtype=np.int32)\n",
    "        ctr=0\n",
    "        for findex,num_events in enumerate(num_events_v):\n",
    "            self._file_index  [ctr:ctr+num_events] = findex\n",
    "            self._event_index [ctr:ctr+num_events] = np.arange(num_events)\n",
    "            ctr += num_events\n",
    "\n",
    "    def __len__(self):\n",
    "        return len(self._file_index)\n",
    "\n",
    "    def __getitem__(self,idx):\n",
    "        # Read data file for the specified index=idx                                                                                                    \n",
    "        f = np.load(self._files[self._file_index[idx]])\n",
    "        # Retrieve event index in this file that corresponds to overall index=idx                                                                       \n",
    "        i = self._event_index[idx]\n",
    "        # Retrieve data & label                                                                                                                         \n",
    "        label = f['labels'][i]\n",
    "        data  = f['event_data'][i]\n",
    "        # Apply transformation function if necessary                                                                                                    \n",
    "        if self._transform is not None:\n",
    "            data = self._transform(data)\n",
    "        return data,label,idx"
   ]
  },
  {
   "cell_type": "markdown",
   "metadata": {},
   "source": [
    "Let's instantiate `NPZataset` and try loading data"
   ]
  },
  {
   "cell_type": "code",
   "execution_count": 5,
   "metadata": {},
   "outputs": [
    {
     "name": "stdout",
     "output_type": "stream",
     "text": [
      "5100 total events are loaded!\n"
     ]
    }
   ],
   "source": [
    "# Data directories: let's use e- and mu-\n",
    "DATA_DIRS = ['../data/hkml_data/IWCDgrid/varyE/e-','../data/hkml_data/IWCDgrid/varyE/mu-','../data/hkml_data/IWCDgrid/varyE/gamma']\n",
    "# Craete an instance\n",
    "ds = NPZDataset(DATA_DIRS,flavour='.npz',limit_num_files=2)\n",
    "print(len(ds),'total events are loaded!')"
   ]
  },
  {
   "cell_type": "markdown",
   "metadata": {},
   "source": [
    "Access \"5th event\" and visualize"
   ]
  },
  {
   "cell_type": "code",
   "execution_count": 7,
   "metadata": {
    "scrolled": true
   },
   "outputs": [
    {
     "name": "stdout",
     "output_type": "stream",
     "text": [
      "Entry 7 ... label: 1 ... data shape: (88, 168, 2)\n"
     ]
    },
    {
     "data": {
      "image/png": "[encoded data removed]",
      "text/plain": [
       "<Figure size 432x288 with 1 Axes>"
      ]
     },
     "metadata": {
      "needs_background": "light"
     },
     "output_type": "display_data"
    }
   ],
   "source": [
    "# Access index 7\n",
    "ENTRY=7\n",
    "data,label,idx = ds[ENTRY]\n",
    "\n",
    "# Data shape\n",
    "print('Entry',ENTRY,'... label:',label,'... data shape:',data.shape)\n",
    "\n",
    "# Visualize\n",
    "plt.imshow(data[:,:,0])\n",
    "plt.show()"
   ]
  },
  {
   "cell_type": "markdown",
   "metadata": {},
   "source": [
    "## DataLoader\n",
    "Given a `Dataset` instance, `DataLoader` provides handy features for streaming data including randomization of samples, multi-threaded data read/process (e.g. `transform` function in `Dataset`), etc.. \n",
    "\n",
    "The `DataLoader` is for ML training where we typically access data by a chunk, called _batch_ (or sometimes _mini batch_). The number of samples (e.g. events) in each batch is called _batch size_ (or _mini batch size_). When preparing a batch, `DataLoader` combines (or collates) N events where N is the batch size. You need to provide a function to perform this collation."
   ]
  },
  {
   "cell_type": "code",
   "execution_count": 8,
   "metadata": {},
   "outputs": [],
   "source": [
    "def HKCollate(batch):\n",
    "    data  = np.vstack([sample[0] for sample in batch])\n",
    "    label = [sample[1] for sample in batch]\n",
    "    idx   = [sample[2] for sample in batch]\n",
    "    return data,label,idx"
   ]
  },
  {
   "cell_type": "markdown",
   "metadata": {},
   "source": [
    "Now we can define the dataloader."
   ]
  },
  {
   "cell_type": "code",
   "execution_count": 9,
   "metadata": {},
   "outputs": [],
   "source": [
    "loader = DataLoader(ds,\n",
    "                    batch_size=5, # set the batch size = 5\n",
    "                    shuffle=True,  # enable randomization of samples in a batch\n",
    "                    num_workers=1, # number of workers to parallelize data streaming\n",
    "                    collate_fn=HKCollate # collation method\n",
    "                   )"
   ]
  },
  {
   "cell_type": "markdown",
   "metadata": {},
   "source": [
    "Here's how you can loop over 10 batch samples"
   ]
  },
  {
   "cell_type": "code",
   "execution_count": 10,
   "metadata": {},
   "outputs": [],
   "source": [
    "def loop(loader,loop_limit=3):\n",
    "\n",
    "    # Let's measure time that takes in each loop\n",
    "    trecord = np.zeros([loop_limit],dtype=np.float32)\n",
    "    t = time.time()\n",
    "    for iteration, batch in enumerate(loader):\n",
    "\n",
    "        data,label,index = batch\n",
    "\n",
    "        # Print out some content info\n",
    "        print('Iteration',iteration,'... time:',time.time()-t,'[s]')\n",
    "        print('    Labels:',label)\n",
    "        print('    Index :',index,'\\n')\n",
    "        trecord[iteration] = time.time() - t\n",
    "        t = time.time()\n",
    "\n",
    "        # break when reaching the loop limit\n",
    "        if (iteration+1) == loop_limit:\n",
    "            break\n",
    "    return trecord"
   ]
  },
  {
   "cell_type": "markdown",
   "metadata": {},
   "source": [
    "Let's try running data loader for 5 events"
   ]
  },
  {
   "cell_type": "code",
   "execution_count": 11,
   "metadata": {},
   "outputs": [
    {
     "name": "stdout",
     "output_type": "stream",
     "text": [
      "Iteration 0 ... time: 3.703171730041504 [s]\n",
      "    Labels: [1, 0, 2, 2, 0]\n",
      "    Index : [705, 3885, 1709, 3023, 3734] \n",
      "\n",
      "Iteration 1 ... time: 3.1210391521453857 [s]\n",
      "    Labels: [1, 0, 0, 1, 0]\n",
      "    Index : [149, 3912, 3377, 956, 4599] \n",
      "\n",
      "Iteration 2 ... time: 2.5245988368988037 [s]\n",
      "    Labels: [2, 0, 1, 2, 0]\n",
      "    Index : [1409, 4515, 13, 2997, 4349] \n",
      "\n",
      "Iteration 3 ... time: 3.2642016410827637 [s]\n",
      "    Labels: [0, 2, 0, 2, 2]\n",
      "    Index : [4149, 1776, 4308, 1866, 2085] \n",
      "\n",
      "Iteration 4 ... time: 3.1038155555725098 [s]\n",
      "    Labels: [2, 0, 2, 1, 0]\n",
      "    Index : [2519, 5025, 2206, 991, 3737] \n",
      "\n",
      "Overall average iteration time: 3.1439493 [s]\n",
      "First event     iteration time: 3.704262 [s]\n",
      "After first event average time: 3.0038712 [s]\n"
     ]
    }
   ],
   "source": [
    "time_record = loop(loader,5)\n",
    "print('Overall average iteration time:',time_record.mean(),'[s]')\n",
    "print('First event     iteration time:',time_record[0],    '[s]')\n",
    "print('After first event average time:',time_record[1:].mean(),'[s]')"
   ]
  },
  {
   "cell_type": "markdown",
   "metadata": {},
   "source": [
    "... that was SO SLOW! I hope you have not yet thrown your laptop yet ;) This slow speed is due to the fact that, for each event, we are performing file open & close. This is very inefficient.\n",
    "\n",
    "## _Faster_ data streaming\n",
    "\n",
    "There are three possible solutions to an issue of slow data streaming. \n",
    "0. read ALL data in the RAM upfront (e.g. creation of `Dataset`)\n",
    "1. increase number of _workers_ to read data (i.e. parallelization)\n",
    "2. combination of 0 and 1: employ parallelization while utilizing some data cache in RAM\n",
    "\n",
    "The first and last methods are bounded by the size of RAM memory availability. Here, we try the option 1. This can be done by specifying _num workers_ argument value at the construction of `DataLoader`."
   ]
  },
  {
   "cell_type": "code",
   "execution_count": 12,
   "metadata": {},
   "outputs": [
    {
     "name": "stdout",
     "output_type": "stream",
     "text": [
      "Iteration 0 ... time: 20.11378574371338 [s]\n",
      "    Labels: [2, 1, 1, 1, 0]\n",
      "    Index : [1183, 415, 674, 1018, 3904] \n",
      "\n",
      "Iteration 1 ... time: 6.270408630371094e-05 [s]\n",
      "    Labels: [0, 0, 0, 2, 1]\n",
      "    Index : [3921, 4109, 4694, 1434, 213] \n",
      "\n",
      "Iteration 2 ... time: 6.842613220214844e-05 [s]\n",
      "    Labels: [2, 2, 2, 1, 2]\n",
      "    Index : [2117, 1770, 1928, 263, 1413] \n",
      "\n",
      "Iteration 3 ... time: 0.0009217262268066406 [s]\n",
      "    Labels: [0, 2, 0, 0, 0]\n",
      "    Index : [3909, 1510, 3569, 4537, 4622] \n",
      "\n",
      "Iteration 4 ... time: 0.0005731582641601562 [s]\n",
      "    Labels: [0, 0, 0, 0, 0]\n",
      "    Index : [3668, 3972, 3773, 4093, 3329] \n",
      "\n",
      "Iteration 5 ... time: 7.772445678710938e-05 [s]\n",
      "    Labels: [0, 0, 2, 2, 2]\n",
      "    Index : [3196, 4907, 2881, 2640, 2929] \n",
      "\n",
      "Iteration 6 ... time: 0.0003993511199951172 [s]\n",
      "    Labels: [0, 1, 1, 0, 1]\n",
      "    Index : [3852, 855, 429, 4985, 24] \n",
      "\n",
      "Iteration 7 ... time: 0.0001800060272216797 [s]\n",
      "    Labels: [1, 1, 2, 1, 2]\n",
      "    Index : [362, 114, 2171, 888, 2523] \n",
      "\n",
      "Iteration 8 ... time: 5.8650970458984375e-05 [s]\n",
      "    Labels: [2, 2, 0, 1, 2]\n",
      "    Index : [2130, 2242, 3461, 707, 1638] \n",
      "\n",
      "Iteration 9 ... time: 4.2438507080078125e-05 [s]\n",
      "    Labels: [2, 1, 1, 2, 2]\n",
      "    Index : [2844, 22, 221, 2273, 1325] \n",
      "\n",
      "Overall average iteration time: 2.0143664 [s]\n",
      "First event     iteration time: 20.129517 [s]\n",
      "After first event average time: 0.0015718937 [s]\n"
     ]
    }
   ],
   "source": [
    "loader = DataLoader(ds,\n",
    "                    batch_size=5, # set the batch size = 5\n",
    "                    shuffle=True,  # enable randomization of samples in a batch\n",
    "                    num_workers=15, # number of workers to parallelize data streaming\n",
    "                    collate_fn=HKCollate # collation method\n",
    "                   )\n",
    "time_record = loop(loader,10)\n",
    "print('Overall average iteration time:',time_record.mean(),'[s]')\n",
    "print('First event     iteration time:',time_record[0],    '[s]')\n",
    "print('After first event average time:',time_record[1:].mean(),'[s]')"
   ]
  },
  {
   "cell_type": "markdown",
   "metadata": {},
   "source": [
    "The first event takes some time. This is because all workers are initiated and nothing is read yet. However, while 5 workers are reading 5 events to form the first batch, 10 other workers are reading data in parallel and store in a buffer. From the second event and onwards, data in a buffer is loaded (i.e. faster data streaming). At some point, parllel workers and data query will balance out and the speed reaches an equilibrium. You have a good solution when the data streaming speed at the equilibrium is much smaller than the time it takes to consume data, which is an algorithm training step to consume 1 batch of data.\n",
    "\n",
    "## Fasteeeerrr way\n",
    "Can we do better? We certainly can! and it is good to care: the data streaming speed is one of a typical bottleneck in developing ML applications. The best performance can be achieved with the option _2. employ parallelization while utilizing some data cache in RAM_. You can implement this by yourself, or partially borrow features from awesome software libraries. One of those is [`HDF5`](https://www.hdfgroup.org/), which has been accepted as a solution for challenges at a varying scale, from a small project on a laptop to a large-scale distributed computing at High Performance Computing clusters. \n",
    "\n",
    "The workshop data is available in `HDF5` format (with `.h5` file extension). Accessing HDF5 file can be easily done using `h5py` module."
   ]
  },
  {
   "cell_type": "code",
   "execution_count": 14,
   "metadata": {},
   "outputs": [
    {
     "name": "stdout",
     "output_type": "stream",
     "text": [
      "directions ... Shape (100000, 1, 3)\n",
      "energies ... Shape (100000, 1)\n",
      "event_data ... Shape (100000, 88, 168, 2)\n",
      "labels ... Shape (100000,)\n",
      "pids ... Shape (100000, 1)\n",
      "positions ... Shape (100000, 1, 3)\n"
     ]
    }
   ],
   "source": [
    "import h5py\n",
    "# Open a file\n",
    "f = h5py.File('../data/hkml_data/IWCDgrid/varyE/e-/IWCDgrid_varyE_e-_R0cm_20-2000MeV_100k.h5', mode='r')\n",
    "# List keys\n",
    "for key in f.keys():\n",
    "    print('%s ... Shape %s' % (key, str(f[key].shape)))"
   ]
  },
  {
   "cell_type": "markdown",
   "metadata": {},
   "source": [
    "Let's define `Dataset` that accesses `h5` files."
   ]
  },
  {
   "cell_type": "code",
   "execution_count": 15,
   "metadata": {},
   "outputs": [],
   "source": [
    "class H5Dataset(Dataset):\n",
    "\n",
    "    def __init__(self, data_dirs, transform=None, flavour=None, limit_num_files=0, start_fraction=0., use_fraction=1.0):\n",
    "        \"\"\"                                                                                                                                             \n",
    "        Args: data_dirs ... a list of data directories to find files (up to 10 files read from each dir)                                                \n",
    "              transform ... a function applied to pre-process data                                                                                      \n",
    "              flavour ..... a string that is required to be present in the filename                                                                     \n",
    "              limit_num_files ... an integer limiting number of files to be taken per data directory                                                    \n",
    "              start_fraction ... a floating point fraction (0.0=>1.0) to specify which entry to start reading (per file)                                \n",
    "              use_fraction ..... a floating point fraction (0.0=>1.0) to specify how much fraction of a file to be read out (per file)                  \n",
    "        \"\"\"\n",
    "        self._transform = transform\n",
    "        self._files = []\n",
    "\n",
    "        # Check input fractions makes sense                                                                                                             \n",
    "        assert start_fraction >= 0. and start_fraction < 1.\n",
    "        assert use_fraction > 0. and use_fraction <= 1.\n",
    "        assert (start_fraction + use_fraction) <= 1.\n",
    "\n",
    "        # Load files (up to 10) from each directory in data_dirs list                                                                                   \n",
    "        for d in data_dirs:\n",
    "            file_list = [ os.path.join(d,f) for f in os.listdir(d) if flavour is None or flavour in f ]\n",
    "            if limit_num_files: file_list = file_list[0:limit_num_files]\n",
    "            self._files += file_list\n",
    "\n",
    "        self._file_handles = [None] * len(self._files)\n",
    "        self._event_to_file_index  = []\n",
    "        self._event_to_entry_index = []\n",
    "        import h5py\n",
    "        for file_index, file_name in enumerate(self._files):\n",
    "            f = h5py.File(file_name,mode='r')\n",
    "            data_size = f['event_data'].shape[0]\n",
    "            start_entry = int(start_fraction * data_size)\n",
    "            num_entries = int(use_fraction * data_size)\n",
    "            self._event_to_file_index += [file_index] * num_entries\n",
    "            self._event_to_entry_index += range(start_entry, start_entry+num_entries)\n",
    "            f.close()\n",
    "\n",
    "    def __len__(self):\n",
    "        return len(self._event_to_file_index)\n",
    "\n",
    "    def __getitem__(self,idx):\n",
    "        file_index = self._event_to_file_index[idx]\n",
    "        entry_index = self._event_to_entry_index[idx]\n",
    "        if self._file_handles[file_index] is None:\n",
    "            import h5py\n",
    "            self._file_handles[file_index] = h5py.File(self._files[file_index],mode='r')\n",
    "        fh = self._file_handles[file_index]\n",
    "        return fh['event_data'][entry_index],fh['labels'][entry_index],idx"
   ]
  },
  {
   "cell_type": "markdown",
   "metadata": {},
   "source": [
    "Let's create `Dataset` instance and try accessing an entry, just like how we did before for `.npz` files."
   ]
  },
  {
   "cell_type": "code",
   "execution_count": 16,
   "metadata": {},
   "outputs": [
    {
     "name": "stdout",
     "output_type": "stream",
     "text": [
      "100000 total events are loaded!\n",
      "Entry 7 ... label: 1.0 ... data shape: (88, 168, 2)\n"
     ]
    },
    {
     "data": {
      "image/png": "[encoded data removed]",
      "text/plain": [
       "<Figure size 432x288 with 1 Axes>"
      ]
     },
     "metadata": {
      "needs_background": "light"
     },
     "output_type": "display_data"
    }
   ],
   "source": [
    "ds = H5Dataset(DATA_DIRS,flavour='100k.h5')\n",
    "print(len(ds),'total events are loaded!')\n",
    "# Access an index\n",
    "data,label,idx = ds[ENTRY]\n",
    "# Data shape\n",
    "print('Entry',ENTRY,'... label:',label,'... data shape:',data.shape)\n",
    "# Visualize\n",
    "plt.imshow(data[:,:,0])\n",
    "plt.show()"
   ]
  },
  {
   "cell_type": "markdown",
   "metadata": {},
   "source": [
    "Let's test how much faster it can be:"
   ]
  },
  {
   "cell_type": "code",
   "execution_count": 17,
   "metadata": {},
   "outputs": [
    {
     "name": "stdout",
     "output_type": "stream",
     "text": [
      "Iteration 0 ... time: 0.05792069435119629 [s]\n",
      "    Labels: [1.0, 1.0, 1.0, 1.0, 1.0]\n",
      "    Index : [32150, 56546, 60366, 57386, 2462] \n",
      "\n",
      "Iteration 1 ... time: 0.010600090026855469 [s]\n",
      "    Labels: [1.0, 1.0, 1.0, 1.0, 1.0]\n",
      "    Index : [91081, 43186, 52138, 5094, 31599] \n",
      "\n",
      "Iteration 2 ... time: 0.0010366439819335938 [s]\n",
      "    Labels: [1.0, 1.0, 1.0, 1.0, 1.0]\n",
      "    Index : [94803, 91393, 95927, 77792, 7818] \n",
      "\n",
      "Iteration 3 ... time: 0.005921602249145508 [s]\n",
      "    Labels: [1.0, 1.0, 1.0, 1.0, 1.0]\n",
      "    Index : [1707, 13964, 87565, 76609, 69966] \n",
      "\n",
      "Iteration 4 ... time: 0.006258249282836914 [s]\n",
      "    Labels: [1.0, 1.0, 1.0, 1.0, 1.0]\n",
      "    Index : [72218, 28025, 14713, 17517, 57615] \n",
      "\n",
      "Iteration 5 ... time: 0.0064544677734375 [s]\n",
      "    Labels: [1.0, 1.0, 1.0, 1.0, 1.0]\n",
      "    Index : [7113, 95700, 12265, 55532, 6289] \n",
      "\n",
      "Iteration 6 ... time: 0.006572723388671875 [s]\n",
      "    Labels: [1.0, 1.0, 1.0, 1.0, 1.0]\n",
      "    Index : [84802, 44618, 23087, 26294, 73616] \n",
      "\n",
      "Iteration 7 ... time: 0.011132240295410156 [s]\n",
      "    Labels: [1.0, 1.0, 1.0, 1.0, 1.0]\n",
      "    Index : [82881, 60107, 36591, 31049, 1943] \n",
      "\n",
      "Iteration 8 ... time: 0.0006079673767089844 [s]\n",
      "    Labels: [1.0, 1.0, 1.0, 1.0, 1.0]\n",
      "    Index : [34688, 477, 26409, 77526, 329] \n",
      "\n",
      "Iteration 9 ... time: 0.01171112060546875 [s]\n",
      "    Labels: [1.0, 1.0, 1.0, 1.0, 1.0]\n",
      "    Index : [93965, 45560, 58780, 1659, 44478] \n",
      "\n",
      "Overall average iteration time: 0.012540984 [s]\n",
      "First event     iteration time: 0.059541464 [s]\n",
      "After first event average time: 0.0073187086 [s]\n"
     ]
    }
   ],
   "source": [
    "loader = DataLoader(ds,\n",
    "                    batch_size=5,  # set the batch size = 50\n",
    "                    shuffle=True,  # enable randomization of samples in a batch\n",
    "                    num_workers=1, # number of workers to parallelize data streaming\n",
    "                    collate_fn=HKCollate # collation method\n",
    "                   )\n",
    "time_record = loop(loader,10)\n",
    "print('Overall average iteration time:',time_record.mean(),'[s]')\n",
    "print('First event     iteration time:',time_record[0],    '[s]')\n",
    "print('After first event average time:',time_record[1:].mean(),'[s]')"
   ]
  },
  {
   "cell_type": "markdown",
   "metadata": {},
   "source": [
    "... which is indeed orders of magnitude faster!\n",
    "\n",
    "### Why only 1 worker?\n",
    "Well, my fault: it is not possible (or practically hard) to support multiple reader processes for HDF5 files in python 2.7. It is my fault for not using Python3 in a workshop like this in 2019 :( See single-writer-multiple-reader (SWMR) discussion here: https://github.com/pytorch/pytorch/issues/3415#issuecomment-341079534\n",
    "\n",
    "### Closing remark\n",
    "\n",
    "This point of this exercise is to see how much difference in data streaming speed you can make. When combined with GPU, moving data from CPU RAM to GPU is another important point to care (i.e. a good practice can get you factors or even an order of magnitude speed up). Training a ML algorithm involves a large dataset that cannot all fit in RAM, and there will be many, many random order data access. The speed of streaming data directly affects time it takes to run your ML algorithms. Finally, though we used `HDF5` in this exercise, `ROOT` is not your enemy when it comes to data streaming. It has descent speed as well as flexibility in both data serialization and compression. Many ML applications use `ROOT` data format in HEP.\n",
    "\n",
    "If you have questions/suggestions/concerns, [contact me](mailto:kterao@slac.stanford.edu)!"
   ]
  }
 ],
 "metadata": {
  "kernelspec": {
   "display_name": "Python 3",
   "language": "python",
   "name": "python3"
  },
  "language_info": {
   "codemirror_mode": {
    "name": "ipython",
    "version": 3
   },
   "file_extension": ".py",
   "mimetype": "text/x-python",
   "name": "python",
   "nbconvert_exporter": "python",
   "pygments_lexer": "ipython3",
   "version": "3.6.10"
  }
 },
 "nbformat": 4,
 "nbformat_minor": 2
}
